{
 "cells": [
  {
   "cell_type": "code",
   "execution_count": 2,
   "id": "ebcf01f6-abb3-4b1e-82c6-77300df5886e",
   "metadata": {},
   "outputs": [
    {
     "name": "stdin",
     "output_type": "stream",
     "text": [
      "whats ur name cla\n"
     ]
    },
    {
     "name": "stdout",
     "output_type": "stream",
     "text": [
      "cla\n"
     ]
    }
   ],
   "source": [
    "name = input(\"whats ur name\")\n",
    "print(name)"
   ]
  },
  {
   "cell_type": "code",
   "execution_count": null,
   "id": "a6bfcb93-5cc2-4af7-ba16-fc910f922bf8",
   "metadata": {},
   "outputs": [],
   "source": []
  }
 ],
 "metadata": {
  "kernelspec": {
   "display_name": "Python 3 (ipykernel)",
   "language": "python",
   "name": "python3"
  },
  "language_info": {
   "codemirror_mode": {
    "name": "ipython",
    "version": 3
   },
   "file_extension": ".py",
   "mimetype": "text/x-python",
   "name": "python",
   "nbconvert_exporter": "python",
   "pygments_lexer": "ipython3",
   "version": "3.11.5"
  }
 },
 "nbformat": 4,
 "nbformat_minor": 5
}
